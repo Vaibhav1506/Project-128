{
  "nbformat": 4,
  "nbformat_minor": 0,
  "metadata": {
    "colab": {
      "name": "Project 128.ipynb",
      "provenance": [],
      "collapsed_sections": []
    },
    "kernelspec": {
      "name": "python3",
      "display_name": "Python 3"
    },
    "language_info": {
      "name": "python"
    }
  },
  "cells": [
    {
      "cell_type": "code",
      "execution_count": null,
      "metadata": {
        "colab": {
          "base_uri": "https://localhost:8080/"
        },
        "id": "h3s9E-J9ap0Y",
        "outputId": "c4b8d9e1-8fed-40d9-f568-bbe60cecbae8"
      },
      "outputs": [
        {
          "output_type": "stream",
          "name": "stdout",
          "text": [
            "<Response [200]>\n",
            "Empty DataFrame\n",
            "Columns: [Star_Name, Distance, Mass, Radius]\n",
            "Index: []\n"
          ]
        }
      ],
      "source": [
        "import pandas as pd\n",
        "import numpy as np\n",
        "import csv\n",
        "import requests\n",
        "\n",
        "from bs4 import BeautifulSoup as bs\n",
        "\n",
        "link_url = \"https://en.wikipedia.org/wiki/List_of_brown_dwarfs\"\n",
        "link_data = requests.get(link_url)\n",
        "\n",
        "print(link_data)\n",
        "\n",
        "soup = bs(link_data.text, \"html.parser\")\n",
        "\n",
        "link_table = soup.find(\"table\")\n",
        "\n",
        "temp_list = []\n",
        "\n",
        "table_rows = link_table.find_all(\"tr\")\n",
        "\n",
        "\n",
        "for tr in table_rows:\n",
        "    td = tr.find_all('td')\n",
        "    row = [i.text.rstrip() for i in td]\n",
        "    temp_list.append(row)\n",
        "\n",
        "Name = []\n",
        "Distance = []\n",
        "Mass = []\n",
        "Radius = []\n",
        "\n",
        "for i in range(1, len(temp_list)):\n",
        "  Name.append(temp_list[i][0])\n",
        "  Distance.append(temp_list[i][5])\n",
        "  Mass.append(temp_list[i][7])\n",
        "  Radius.append(temp_list[i][8])\n",
        "  \n",
        "df = pd.DataFrame(list(zip(Name, Distance, Mass, Radius)), columns = [\"Star_Name\", \"Distance\", \"Mass\", \"Radius\"])\n",
        "print(df)\n",
        "\n",
        "df.to_csv(\"List_of_brown_dwarfs.csv\")"
      ]
    }
  ]
}